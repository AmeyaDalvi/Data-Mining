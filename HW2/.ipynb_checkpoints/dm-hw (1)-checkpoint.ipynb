{
 "cells": [
  {
   "cell_type": "code",
   "execution_count": 1,
   "metadata": {
    "_cell_guid": "b1076dfc-b9ad-4769-8c92-a6c4dae69d19",
    "_uuid": "8f2839f25d086af736a60e9eeb907d3b93b6e0e5",
    "execution": {
     "iopub.execute_input": "2022-02-12T03:52:50.792982Z",
     "iopub.status.busy": "2022-02-12T03:52:50.792636Z",
     "iopub.status.idle": "2022-02-12T03:52:50.808272Z",
     "shell.execute_reply": "2022-02-12T03:52:50.807519Z",
     "shell.execute_reply.started": "2022-02-12T03:52:50.792942Z"
    }
   },
   "outputs": [],
   "source": [
    "# This Python 3 environment comes with many helpful analytics libraries installed\n",
    "# It is defined by the kaggle/python Docker image: https://github.com/kaggle/docker-python\n",
    "# For example, here's several helpful packages to load\n",
    "\n",
    "import numpy as np # linear algebra\n",
    "import pandas as pd # data processing, CSV file I/O (e.g. pd.read_csv)\n",
    "\n",
    "# Input data files are available in the read-only \"../input/\" directory\n",
    "# For example, running this (by clicking run or pressing Shift+Enter) will list all files under the input directory\n",
    "\n",
    "import os\n",
    "for dirname, _, filenames in os.walk('/kaggle/input'):\n",
    "    for filename in filenames:\n",
    "        print(os.path.join(dirname, filename))\n",
    "\n",
    "# You can write up to 20GB to the current directory (/kaggle/working/) that gets preserved as output when you create a version using \"Save & Run All\" \n",
    "# You can also write temporary files to /kaggle/temp/, but they won't be saved outside of the current session"
   ]
  },
  {
   "cell_type": "code",
   "execution_count": 2,
   "metadata": {
    "execution": {
     "iopub.execute_input": "2022-02-12T03:52:51.269995Z",
     "iopub.status.busy": "2022-02-12T03:52:51.268972Z",
     "iopub.status.idle": "2022-02-12T03:52:51.278148Z",
     "shell.execute_reply": "2022-02-12T03:52:51.277385Z",
     "shell.execute_reply.started": "2022-02-12T03:52:51.269942Z"
    }
   },
   "outputs": [],
   "source": [
    "# Load Packages\n",
    "from __future__ import print_function\n",
    "import time\n",
    "import numpy as np\n",
    "import pandas as pd\n",
    "from sklearn.decomposition import PCA\n",
    "from sklearn.manifold import TSNE\n",
    "%matplotlib inline\n",
    "import matplotlib.pyplot as plt\n",
    "from mpl_toolkits.mplot3d import Axes3D\n",
    "import seaborn as sns\n"
   ]
  },
  {
   "cell_type": "code",
   "execution_count": 3,
   "metadata": {
    "execution": {
     "iopub.execute_input": "2022-02-12T03:52:51.420706Z",
     "iopub.status.busy": "2022-02-12T03:52:51.420207Z",
     "iopub.status.idle": "2022-02-12T03:52:51.482425Z",
     "shell.execute_reply": "2022-02-12T03:52:51.481547Z",
     "shell.execute_reply.started": "2022-02-12T03:52:51.420661Z"
    }
   },
   "outputs": [
    {
     "ename": "FileNotFoundError",
     "evalue": "[Errno 2] No such file or directory: '/kaggle/input/t2d-abundance-microbiome/T2D_abundance.csv'",
     "output_type": "error",
     "traceback": [
      "\u001b[0;31m---------------------------------------------------------------------------\u001b[0m",
      "\u001b[0;31mFileNotFoundError\u001b[0m                         Traceback (most recent call last)",
      "\u001b[0;32m<ipython-input-3-798090361364>\u001b[0m in \u001b[0;36m<module>\u001b[0;34m\u001b[0m\n\u001b[0;32m----> 1\u001b[0;31m \u001b[0mdata\u001b[0m \u001b[0;34m=\u001b[0m \u001b[0mpd\u001b[0m\u001b[0;34m.\u001b[0m\u001b[0mread_csv\u001b[0m\u001b[0;34m(\u001b[0m\u001b[0;34m'/kaggle/input/t2d-abundance-microbiome/T2D_abundance.csv'\u001b[0m\u001b[0;34m,\u001b[0m \u001b[0mdelimiter\u001b[0m \u001b[0;34m=\u001b[0m \u001b[0;34m'\\t'\u001b[0m\u001b[0;34m,\u001b[0m \u001b[0mindex_col\u001b[0m \u001b[0;34m=\u001b[0m \u001b[0;32mNone\u001b[0m\u001b[0;34m)\u001b[0m\u001b[0;34m\u001b[0m\u001b[0;34m\u001b[0m\u001b[0m\n\u001b[0m\u001b[1;32m      2\u001b[0m \u001b[0mdata\u001b[0m\u001b[0;34m.\u001b[0m\u001b[0mhead\u001b[0m\u001b[0;34m(\u001b[0m\u001b[0;34m)\u001b[0m\u001b[0;34m\u001b[0m\u001b[0;34m\u001b[0m\u001b[0m\n",
      "\u001b[0;32m~/opt/anaconda3/lib/python3.8/site-packages/pandas/io/parsers.py\u001b[0m in \u001b[0;36mread_csv\u001b[0;34m(filepath_or_buffer, sep, delimiter, header, names, index_col, usecols, squeeze, prefix, mangle_dupe_cols, dtype, engine, converters, true_values, false_values, skipinitialspace, skiprows, skipfooter, nrows, na_values, keep_default_na, na_filter, verbose, skip_blank_lines, parse_dates, infer_datetime_format, keep_date_col, date_parser, dayfirst, cache_dates, iterator, chunksize, compression, thousands, decimal, lineterminator, quotechar, quoting, doublequote, escapechar, comment, encoding, dialect, error_bad_lines, warn_bad_lines, delim_whitespace, low_memory, memory_map, float_precision, storage_options)\u001b[0m\n\u001b[1;32m    608\u001b[0m     \u001b[0mkwds\u001b[0m\u001b[0;34m.\u001b[0m\u001b[0mupdate\u001b[0m\u001b[0;34m(\u001b[0m\u001b[0mkwds_defaults\u001b[0m\u001b[0;34m)\u001b[0m\u001b[0;34m\u001b[0m\u001b[0;34m\u001b[0m\u001b[0m\n\u001b[1;32m    609\u001b[0m \u001b[0;34m\u001b[0m\u001b[0m\n\u001b[0;32m--> 610\u001b[0;31m     \u001b[0;32mreturn\u001b[0m \u001b[0m_read\u001b[0m\u001b[0;34m(\u001b[0m\u001b[0mfilepath_or_buffer\u001b[0m\u001b[0;34m,\u001b[0m \u001b[0mkwds\u001b[0m\u001b[0;34m)\u001b[0m\u001b[0;34m\u001b[0m\u001b[0;34m\u001b[0m\u001b[0m\n\u001b[0m\u001b[1;32m    611\u001b[0m \u001b[0;34m\u001b[0m\u001b[0m\n\u001b[1;32m    612\u001b[0m \u001b[0;34m\u001b[0m\u001b[0m\n",
      "\u001b[0;32m~/opt/anaconda3/lib/python3.8/site-packages/pandas/io/parsers.py\u001b[0m in \u001b[0;36m_read\u001b[0;34m(filepath_or_buffer, kwds)\u001b[0m\n\u001b[1;32m    460\u001b[0m \u001b[0;34m\u001b[0m\u001b[0m\n\u001b[1;32m    461\u001b[0m     \u001b[0;31m# Create the parser.\u001b[0m\u001b[0;34m\u001b[0m\u001b[0;34m\u001b[0m\u001b[0;34m\u001b[0m\u001b[0m\n\u001b[0;32m--> 462\u001b[0;31m     \u001b[0mparser\u001b[0m \u001b[0;34m=\u001b[0m \u001b[0mTextFileReader\u001b[0m\u001b[0;34m(\u001b[0m\u001b[0mfilepath_or_buffer\u001b[0m\u001b[0;34m,\u001b[0m \u001b[0;34m**\u001b[0m\u001b[0mkwds\u001b[0m\u001b[0;34m)\u001b[0m\u001b[0;34m\u001b[0m\u001b[0;34m\u001b[0m\u001b[0m\n\u001b[0m\u001b[1;32m    463\u001b[0m \u001b[0;34m\u001b[0m\u001b[0m\n\u001b[1;32m    464\u001b[0m     \u001b[0;32mif\u001b[0m \u001b[0mchunksize\u001b[0m \u001b[0;32mor\u001b[0m \u001b[0miterator\u001b[0m\u001b[0;34m:\u001b[0m\u001b[0;34m\u001b[0m\u001b[0;34m\u001b[0m\u001b[0m\n",
      "\u001b[0;32m~/opt/anaconda3/lib/python3.8/site-packages/pandas/io/parsers.py\u001b[0m in \u001b[0;36m__init__\u001b[0;34m(self, f, engine, **kwds)\u001b[0m\n\u001b[1;32m    817\u001b[0m             \u001b[0mself\u001b[0m\u001b[0;34m.\u001b[0m\u001b[0moptions\u001b[0m\u001b[0;34m[\u001b[0m\u001b[0;34m\"has_index_names\"\u001b[0m\u001b[0;34m]\u001b[0m \u001b[0;34m=\u001b[0m \u001b[0mkwds\u001b[0m\u001b[0;34m[\u001b[0m\u001b[0;34m\"has_index_names\"\u001b[0m\u001b[0;34m]\u001b[0m\u001b[0;34m\u001b[0m\u001b[0;34m\u001b[0m\u001b[0m\n\u001b[1;32m    818\u001b[0m \u001b[0;34m\u001b[0m\u001b[0m\n\u001b[0;32m--> 819\u001b[0;31m         \u001b[0mself\u001b[0m\u001b[0;34m.\u001b[0m\u001b[0m_engine\u001b[0m \u001b[0;34m=\u001b[0m \u001b[0mself\u001b[0m\u001b[0;34m.\u001b[0m\u001b[0m_make_engine\u001b[0m\u001b[0;34m(\u001b[0m\u001b[0mself\u001b[0m\u001b[0;34m.\u001b[0m\u001b[0mengine\u001b[0m\u001b[0;34m)\u001b[0m\u001b[0;34m\u001b[0m\u001b[0;34m\u001b[0m\u001b[0m\n\u001b[0m\u001b[1;32m    820\u001b[0m \u001b[0;34m\u001b[0m\u001b[0m\n\u001b[1;32m    821\u001b[0m     \u001b[0;32mdef\u001b[0m \u001b[0mclose\u001b[0m\u001b[0;34m(\u001b[0m\u001b[0mself\u001b[0m\u001b[0;34m)\u001b[0m\u001b[0;34m:\u001b[0m\u001b[0;34m\u001b[0m\u001b[0;34m\u001b[0m\u001b[0m\n",
      "\u001b[0;32m~/opt/anaconda3/lib/python3.8/site-packages/pandas/io/parsers.py\u001b[0m in \u001b[0;36m_make_engine\u001b[0;34m(self, engine)\u001b[0m\n\u001b[1;32m   1048\u001b[0m             )\n\u001b[1;32m   1049\u001b[0m         \u001b[0;31m# error: Too many arguments for \"ParserBase\"\u001b[0m\u001b[0;34m\u001b[0m\u001b[0;34m\u001b[0m\u001b[0;34m\u001b[0m\u001b[0m\n\u001b[0;32m-> 1050\u001b[0;31m         \u001b[0;32mreturn\u001b[0m \u001b[0mmapping\u001b[0m\u001b[0;34m[\u001b[0m\u001b[0mengine\u001b[0m\u001b[0;34m]\u001b[0m\u001b[0;34m(\u001b[0m\u001b[0mself\u001b[0m\u001b[0;34m.\u001b[0m\u001b[0mf\u001b[0m\u001b[0;34m,\u001b[0m \u001b[0;34m**\u001b[0m\u001b[0mself\u001b[0m\u001b[0;34m.\u001b[0m\u001b[0moptions\u001b[0m\u001b[0;34m)\u001b[0m  \u001b[0;31m# type: ignore[call-arg]\u001b[0m\u001b[0;34m\u001b[0m\u001b[0;34m\u001b[0m\u001b[0m\n\u001b[0m\u001b[1;32m   1051\u001b[0m \u001b[0;34m\u001b[0m\u001b[0m\n\u001b[1;32m   1052\u001b[0m     \u001b[0;32mdef\u001b[0m \u001b[0m_failover_to_python\u001b[0m\u001b[0;34m(\u001b[0m\u001b[0mself\u001b[0m\u001b[0;34m)\u001b[0m\u001b[0;34m:\u001b[0m\u001b[0;34m\u001b[0m\u001b[0;34m\u001b[0m\u001b[0m\n",
      "\u001b[0;32m~/opt/anaconda3/lib/python3.8/site-packages/pandas/io/parsers.py\u001b[0m in \u001b[0;36m__init__\u001b[0;34m(self, src, **kwds)\u001b[0m\n\u001b[1;32m   1865\u001b[0m \u001b[0;34m\u001b[0m\u001b[0m\n\u001b[1;32m   1866\u001b[0m         \u001b[0;31m# open handles\u001b[0m\u001b[0;34m\u001b[0m\u001b[0;34m\u001b[0m\u001b[0;34m\u001b[0m\u001b[0m\n\u001b[0;32m-> 1867\u001b[0;31m         \u001b[0mself\u001b[0m\u001b[0;34m.\u001b[0m\u001b[0m_open_handles\u001b[0m\u001b[0;34m(\u001b[0m\u001b[0msrc\u001b[0m\u001b[0;34m,\u001b[0m \u001b[0mkwds\u001b[0m\u001b[0;34m)\u001b[0m\u001b[0;34m\u001b[0m\u001b[0;34m\u001b[0m\u001b[0m\n\u001b[0m\u001b[1;32m   1868\u001b[0m         \u001b[0;32massert\u001b[0m \u001b[0mself\u001b[0m\u001b[0;34m.\u001b[0m\u001b[0mhandles\u001b[0m \u001b[0;32mis\u001b[0m \u001b[0;32mnot\u001b[0m \u001b[0;32mNone\u001b[0m\u001b[0;34m\u001b[0m\u001b[0;34m\u001b[0m\u001b[0m\n\u001b[1;32m   1869\u001b[0m         \u001b[0;32mfor\u001b[0m \u001b[0mkey\u001b[0m \u001b[0;32min\u001b[0m \u001b[0;34m(\u001b[0m\u001b[0;34m\"storage_options\"\u001b[0m\u001b[0;34m,\u001b[0m \u001b[0;34m\"encoding\"\u001b[0m\u001b[0;34m,\u001b[0m \u001b[0;34m\"memory_map\"\u001b[0m\u001b[0;34m,\u001b[0m \u001b[0;34m\"compression\"\u001b[0m\u001b[0;34m)\u001b[0m\u001b[0;34m:\u001b[0m\u001b[0;34m\u001b[0m\u001b[0;34m\u001b[0m\u001b[0m\n",
      "\u001b[0;32m~/opt/anaconda3/lib/python3.8/site-packages/pandas/io/parsers.py\u001b[0m in \u001b[0;36m_open_handles\u001b[0;34m(self, src, kwds)\u001b[0m\n\u001b[1;32m   1360\u001b[0m         \u001b[0mLet\u001b[0m \u001b[0mthe\u001b[0m \u001b[0mreaders\u001b[0m \u001b[0mopen\u001b[0m \u001b[0mIOHanldes\u001b[0m \u001b[0mafter\u001b[0m \u001b[0mthey\u001b[0m \u001b[0mare\u001b[0m \u001b[0mdone\u001b[0m \u001b[0;32mwith\u001b[0m \u001b[0mtheir\u001b[0m \u001b[0mpotential\u001b[0m \u001b[0mraises\u001b[0m\u001b[0;34m.\u001b[0m\u001b[0;34m\u001b[0m\u001b[0;34m\u001b[0m\u001b[0m\n\u001b[1;32m   1361\u001b[0m         \"\"\"\n\u001b[0;32m-> 1362\u001b[0;31m         self.handles = get_handle(\n\u001b[0m\u001b[1;32m   1363\u001b[0m             \u001b[0msrc\u001b[0m\u001b[0;34m,\u001b[0m\u001b[0;34m\u001b[0m\u001b[0;34m\u001b[0m\u001b[0m\n\u001b[1;32m   1364\u001b[0m             \u001b[0;34m\"r\"\u001b[0m\u001b[0;34m,\u001b[0m\u001b[0;34m\u001b[0m\u001b[0;34m\u001b[0m\u001b[0m\n",
      "\u001b[0;32m~/opt/anaconda3/lib/python3.8/site-packages/pandas/io/common.py\u001b[0m in \u001b[0;36mget_handle\u001b[0;34m(path_or_buf, mode, encoding, compression, memory_map, is_text, errors, storage_options)\u001b[0m\n\u001b[1;32m    640\u001b[0m                 \u001b[0merrors\u001b[0m \u001b[0;34m=\u001b[0m \u001b[0;34m\"replace\"\u001b[0m\u001b[0;34m\u001b[0m\u001b[0;34m\u001b[0m\u001b[0m\n\u001b[1;32m    641\u001b[0m             \u001b[0;31m# Encoding\u001b[0m\u001b[0;34m\u001b[0m\u001b[0;34m\u001b[0m\u001b[0;34m\u001b[0m\u001b[0m\n\u001b[0;32m--> 642\u001b[0;31m             handle = open(\n\u001b[0m\u001b[1;32m    643\u001b[0m                 \u001b[0mhandle\u001b[0m\u001b[0;34m,\u001b[0m\u001b[0;34m\u001b[0m\u001b[0;34m\u001b[0m\u001b[0m\n\u001b[1;32m    644\u001b[0m                 \u001b[0mioargs\u001b[0m\u001b[0;34m.\u001b[0m\u001b[0mmode\u001b[0m\u001b[0;34m,\u001b[0m\u001b[0;34m\u001b[0m\u001b[0;34m\u001b[0m\u001b[0m\n",
      "\u001b[0;31mFileNotFoundError\u001b[0m: [Errno 2] No such file or directory: '/kaggle/input/t2d-abundance-microbiome/T2D_abundance.csv'"
     ]
    }
   ],
   "source": [
    "data = pd.read_csv('/kaggle/input/t2d-abundance-microbiome/T2D_abundance.csv', delimiter = '\\t', index_col = None)\n",
    "data.head()"
   ]
  },
  {
   "cell_type": "code",
   "execution_count": null,
   "metadata": {
    "execution": {
     "iopub.execute_input": "2022-02-12T03:52:51.792011Z",
     "iopub.status.busy": "2022-02-12T03:52:51.791734Z",
     "iopub.status.idle": "2022-02-12T03:52:51.821803Z",
     "shell.execute_reply": "2022-02-12T03:52:51.820910Z",
     "shell.execute_reply.started": "2022-02-12T03:52:51.791980Z"
    }
   },
   "outputs": [],
   "source": [
    "data.rename( columns={'Unnamed: 0':'Index'}, inplace=True )\n",
    "data.head()"
   ]
  },
  {
   "cell_type": "code",
   "execution_count": null,
   "metadata": {
    "execution": {
     "iopub.execute_input": "2022-02-12T03:52:52.089553Z",
     "iopub.status.busy": "2022-02-12T03:52:52.089257Z",
     "iopub.status.idle": "2022-02-12T03:52:52.118923Z",
     "shell.execute_reply": "2022-02-12T03:52:52.118024Z",
     "shell.execute_reply.started": "2022-02-12T03:52:52.089513Z"
    }
   },
   "outputs": [],
   "source": [
    "data.set_index('Index')\n",
    "data.head()"
   ]
  },
  {
   "cell_type": "code",
   "execution_count": null,
   "metadata": {
    "execution": {
     "iopub.execute_input": "2022-02-12T03:52:52.407264Z",
     "iopub.status.busy": "2022-02-12T03:52:52.406999Z",
     "iopub.status.idle": "2022-02-12T03:52:52.413565Z",
     "shell.execute_reply": "2022-02-12T03:52:52.412560Z",
     "shell.execute_reply.started": "2022-02-12T03:52:52.407233Z"
    }
   },
   "outputs": [],
   "source": [
    "data.shape"
   ]
  },
  {
   "cell_type": "code",
   "execution_count": null,
   "metadata": {
    "execution": {
     "iopub.execute_input": "2022-02-12T03:52:52.726305Z",
     "iopub.status.busy": "2022-02-12T03:52:52.725861Z",
     "iopub.status.idle": "2022-02-12T03:52:52.754414Z",
     "shell.execute_reply": "2022-02-12T03:52:52.753581Z",
     "shell.execute_reply.started": "2022-02-12T03:52:52.726269Z"
    }
   },
   "outputs": [],
   "source": [
    "data.head()"
   ]
  },
  {
   "cell_type": "code",
   "execution_count": null,
   "metadata": {
    "execution": {
     "iopub.execute_input": "2022-02-12T03:52:52.992410Z",
     "iopub.status.busy": "2022-02-12T03:52:52.991827Z",
     "iopub.status.idle": "2022-02-12T03:52:53.024971Z",
     "shell.execute_reply": "2022-02-12T03:52:53.024118Z",
     "shell.execute_reply.started": "2022-02-12T03:52:52.992361Z"
    }
   },
   "outputs": [],
   "source": [
    "data.info()"
   ]
  },
  {
   "cell_type": "code",
   "execution_count": null,
   "metadata": {
    "execution": {
     "iopub.execute_input": "2022-02-12T03:52:53.382126Z",
     "iopub.status.busy": "2022-02-12T03:52:53.381733Z",
     "iopub.status.idle": "2022-02-12T03:52:53.393380Z",
     "shell.execute_reply": "2022-02-12T03:52:53.392435Z",
     "shell.execute_reply.started": "2022-02-12T03:52:53.382096Z"
    }
   },
   "outputs": [],
   "source": [
    "data.isnull().sum().head()"
   ]
  },
  {
   "cell_type": "code",
   "execution_count": null,
   "metadata": {
    "execution": {
     "iopub.execute_input": "2022-02-12T03:52:53.549030Z",
     "iopub.status.busy": "2022-02-12T03:52:53.548750Z",
     "iopub.status.idle": "2022-02-12T03:52:53.553123Z",
     "shell.execute_reply": "2022-02-12T03:52:53.552333Z",
     "shell.execute_reply.started": "2022-02-12T03:52:53.548997Z"
    }
   },
   "outputs": [],
   "source": [
    "features = data.columns"
   ]
  },
  {
   "cell_type": "code",
   "execution_count": null,
   "metadata": {
    "execution": {
     "iopub.execute_input": "2022-02-12T03:52:53.926810Z",
     "iopub.status.busy": "2022-02-12T03:52:53.926083Z",
     "iopub.status.idle": "2022-02-12T03:52:54.119111Z",
     "shell.execute_reply": "2022-02-12T03:52:54.118530Z",
     "shell.execute_reply.started": "2022-02-12T03:52:53.926773Z"
    }
   },
   "outputs": [],
   "source": [
    "for col in features:\n",
    "    data[col].fillna(data[col].mode()[0], inplace=True)"
   ]
  },
  {
   "cell_type": "code",
   "execution_count": null,
   "metadata": {
    "execution": {
     "iopub.execute_input": "2022-02-12T03:52:54.227860Z",
     "iopub.status.busy": "2022-02-12T03:52:54.227366Z",
     "iopub.status.idle": "2022-02-12T03:52:54.237459Z",
     "shell.execute_reply": "2022-02-12T03:52:54.236667Z",
     "shell.execute_reply.started": "2022-02-12T03:52:54.227824Z"
    }
   },
   "outputs": [],
   "source": [
    "data.isnull().sum().head()"
   ]
  },
  {
   "cell_type": "code",
   "execution_count": null,
   "metadata": {
    "execution": {
     "iopub.execute_input": "2022-02-12T03:52:54.507433Z",
     "iopub.status.busy": "2022-02-12T03:52:54.506867Z",
     "iopub.status.idle": "2022-02-12T03:52:54.513179Z",
     "shell.execute_reply": "2022-02-12T03:52:54.512349Z",
     "shell.execute_reply.started": "2022-02-12T03:52:54.507387Z"
    }
   },
   "outputs": [],
   "source": [
    "y = data['Class']\n",
    "\n",
    "X = data.drop(['Index','Class'], axis=1)"
   ]
  },
  {
   "cell_type": "code",
   "execution_count": null,
   "metadata": {
    "execution": {
     "iopub.execute_input": "2022-02-12T03:52:54.826088Z",
     "iopub.status.busy": "2022-02-12T03:52:54.825277Z",
     "iopub.status.idle": "2022-02-12T03:52:55.019034Z",
     "shell.execute_reply": "2022-02-12T03:52:55.018397Z",
     "shell.execute_reply.started": "2022-02-12T03:52:54.826040Z"
    }
   },
   "outputs": [],
   "source": [
    "pca = PCA()\n",
    "df_pca = pca.fit_transform(X=X)\n",
    "\n",
    "# Store as dataframe and print\n",
    "df_pca = pd.DataFrame(df_pca)\n",
    "print(df_pca.shape)  #> (3147, 784)\n",
    "df_pca.round(2).head()"
   ]
  },
  {
   "cell_type": "code",
   "execution_count": null,
   "metadata": {
    "execution": {
     "iopub.execute_input": "2022-02-12T03:52:55.086635Z",
     "iopub.status.busy": "2022-02-12T03:52:55.085869Z",
     "iopub.status.idle": "2022-02-12T03:52:55.094450Z",
     "shell.execute_reply": "2022-02-12T03:52:55.093796Z",
     "shell.execute_reply.started": "2022-02-12T03:52:55.086601Z"
    }
   },
   "outputs": [],
   "source": [
    "pca.explained_variance_ratio_.round(8)"
   ]
  },
  {
   "cell_type": "code",
   "execution_count": null,
   "metadata": {
    "execution": {
     "iopub.execute_input": "2022-02-12T03:53:31.222811Z",
     "iopub.status.busy": "2022-02-12T03:53:31.222552Z",
     "iopub.status.idle": "2022-02-12T03:53:31.460179Z",
     "shell.execute_reply": "2022-02-12T03:53:31.459351Z",
     "shell.execute_reply.started": "2022-02-12T03:53:31.222783Z"
    }
   },
   "outputs": [],
   "source": [
    "variance_exp_cumsum = pca.explained_variance_ratio_.cumsum().round(2)\n",
    "fig, axes = plt.subplots(1,1,figsize=(16,7), dpi=100)\n",
    "plt.plot(variance_exp_cumsum, color='red')\n",
    "plt.xlabel('# of PCs', fontsize=16)\n",
    "plt.ylabel('Variance', fontsize=16)\n",
    "plt.show()"
   ]
  },
  {
   "cell_type": "code",
   "execution_count": null,
   "metadata": {
    "execution": {
     "iopub.execute_input": "2022-02-12T03:52:56.093934Z",
     "iopub.status.busy": "2022-02-12T03:52:56.093178Z",
     "iopub.status.idle": "2022-02-12T03:52:56.098677Z",
     "shell.execute_reply": "2022-02-12T03:52:56.097834Z",
     "shell.execute_reply.started": "2022-02-12T03:52:56.093897Z"
    }
   },
   "outputs": [],
   "source": [
    "cumsum = np.cumsum(pca.explained_variance_ratio_)\n",
    "dim = np.argmax(cumsum >= 0.95) + 1\n",
    "print('The number of dimensions required to preserve 95% of variance is',dim)"
   ]
  },
  {
   "cell_type": "markdown",
   "metadata": {},
   "source": [
    "Code below is refered from: https://www.machinelearningplus.com/machine-learning/principal-components-analysis-pca-better-explained/"
   ]
  },
  {
   "cell_type": "code",
   "execution_count": null,
   "metadata": {
    "execution": {
     "iopub.execute_input": "2022-02-12T03:01:43.048016Z",
     "iopub.status.busy": "2022-02-12T03:01:43.047406Z",
     "iopub.status.idle": "2022-02-12T03:01:43.053217Z",
     "shell.execute_reply": "2022-02-12T03:01:43.052425Z",
     "shell.execute_reply.started": "2022-02-12T03:01:43.047973Z"
    }
   },
   "outputs": [],
   "source": [
    "from scipy.spatial import ConvexHull\n",
    "\n",
    "def encircle(x,y, ax=None, **kw):\n",
    "    if not ax: ax=plt.gca()\n",
    "    p = np.c_[x,y]\n",
    "    hull = ConvexHull(p)\n",
    "    poly = plt.Polygon(p[hull.vertices,:], **kw)\n",
    "    ax.add_patch(poly)"
   ]
  },
  {
   "cell_type": "code",
   "execution_count": null,
   "metadata": {
    "execution": {
     "iopub.execute_input": "2022-02-12T03:54:50.268976Z",
     "iopub.status.busy": "2022-02-12T03:54:50.268142Z",
     "iopub.status.idle": "2022-02-12T03:54:50.557910Z",
     "shell.execute_reply": "2022-02-12T03:54:50.557385Z",
     "shell.execute_reply.started": "2022-02-12T03:54:50.268929Z"
    }
   },
   "outputs": [],
   "source": [
    "# Scatterplot against PC1 and PC2\n",
    "fig, ax = plt.subplots(1,1, figsize=(16,12))\n",
    "\n",
    "# Row masks for each category\n",
    "rows_0 = y=='n';\n",
    "rows_1 = y=='t2d'; \n",
    "\n",
    "# Plot\n",
    "ax.scatter(df_pca.loc[rows_0.tolist(), 1], df_pca.loc[rows_0.tolist(), 2], c='blue', edgecolor='k', s=120, label='No')\n",
    "ax.scatter(df_pca.loc[rows_1.tolist(), 1], df_pca.loc[rows_1.tolist(), 2], c='red', edgecolor='k', s=120, label='Yes')\n",
    "\n",
    "# # Encircle the boundaries\n",
    "# encircle(df_pca.loc[rows_0.tolist(), 1], df_pca.loc[rows_0.tolist(), 2], ec=\"blue\", fc=\"none\", linewidth=2.5)\n",
    "# encircle(df_pca.loc[rows_1.tolist(), 1], df_pca.loc[rows_1.tolist(), 2], ec=\"firebrick\", fc=\"none\", linewidth=2.5)\n",
    "\n",
    "# # Shading\n",
    "# encircle(df_pca.loc[rows_1.tolist(), 1], df_pca.loc[rows_1.tolist(), 2], ec=\"k\", fc=\"firebrick\", alpha=0.05)\n",
    "# encircle(df_pca.loc[rows_0.tolist(), 1], df_pca.loc[rows_0.tolist(), 2], ec=\"k\", fc=\"blue\", alpha=0.05)\n",
    "\n",
    "# Labels\n",
    "ax.set_title(\"Microbiome Data for 1 & 2 : Scatterplot of First Two PCA directions\", fontsize=22)\n",
    "ax.set_xlabel(\"1st Principal Component\", fontsize=22)\n",
    "ax.set_ylabel(\"2nd Principal Component\", fontsize=22)\n",
    "ax.legend(loc='upper right', title='Diabetes', fontsize=16)\n",
    "plt.show();"
   ]
  },
  {
   "cell_type": "code",
   "execution_count": null,
   "metadata": {
    "execution": {
     "iopub.execute_input": "2022-02-12T03:58:21.794587Z",
     "iopub.status.busy": "2022-02-12T03:58:21.794290Z",
     "iopub.status.idle": "2022-02-12T03:58:21.801196Z",
     "shell.execute_reply": "2022-02-12T03:58:21.800369Z",
     "shell.execute_reply.started": "2022-02-12T03:58:21.794554Z"
    }
   },
   "outputs": [],
   "source": [
    "data['TypeClass'] = data['Class'].rank(method='dense').astype(int)"
   ]
  },
  {
   "cell_type": "code",
   "execution_count": null,
   "metadata": {
    "execution": {
     "iopub.execute_input": "2022-02-12T03:58:22.164848Z",
     "iopub.status.busy": "2022-02-12T03:58:22.164195Z",
     "iopub.status.idle": "2022-02-12T03:58:22.169002Z",
     "shell.execute_reply": "2022-02-12T03:58:22.167865Z",
     "shell.execute_reply.started": "2022-02-12T03:58:22.164808Z"
    }
   },
   "outputs": [],
   "source": [
    "np.random.seed(4)\n",
    "rndperm = np.random.permutation(data.shape[0])"
   ]
  },
  {
   "cell_type": "code",
   "execution_count": null,
   "metadata": {
    "execution": {
     "iopub.execute_input": "2022-02-12T03:58:22.539617Z",
     "iopub.status.busy": "2022-02-12T03:58:22.539304Z",
     "iopub.status.idle": "2022-02-12T03:58:22.543339Z",
     "shell.execute_reply": "2022-02-12T03:58:22.542439Z",
     "shell.execute_reply.started": "2022-02-12T03:58:22.539581Z"
    }
   },
   "outputs": [],
   "source": [
    "import pandas as pd\n",
    "import matplotlib.pyplot as plt"
   ]
  },
  {
   "cell_type": "code",
   "execution_count": null,
   "metadata": {
    "execution": {
     "iopub.execute_input": "2022-02-12T03:58:22.902006Z",
     "iopub.status.busy": "2022-02-12T03:58:22.901632Z",
     "iopub.status.idle": "2022-02-12T03:58:22.908247Z",
     "shell.execute_reply": "2022-02-12T03:58:22.907584Z",
     "shell.execute_reply.started": "2022-02-12T03:58:22.901959Z"
    }
   },
   "outputs": [],
   "source": [
    "X = data.drop(['Index','Class'], axis = 1)\n",
    "features = X.columns"
   ]
  },
  {
   "cell_type": "code",
   "execution_count": null,
   "metadata": {
    "execution": {
     "iopub.execute_input": "2022-02-12T03:58:23.267818Z",
     "iopub.status.busy": "2022-02-12T03:58:23.267357Z",
     "iopub.status.idle": "2022-02-12T03:58:23.306918Z",
     "shell.execute_reply": "2022-02-12T03:58:23.305864Z",
     "shell.execute_reply.started": "2022-02-12T03:58:23.267772Z"
    }
   },
   "outputs": [],
   "source": [
    "pca = PCA(n_components=3)\n",
    "pca_result = pca.fit_transform(data[features].values)\n",
    "data['pca-one'] = pca_result[:,0]\n",
    "data['pca-two'] = pca_result[:,1] \n",
    "data['pca-three'] = pca_result[:,2]\n"
   ]
  },
  {
   "cell_type": "code",
   "execution_count": null,
   "metadata": {
    "execution": {
     "iopub.execute_input": "2022-02-12T03:58:23.653428Z",
     "iopub.status.busy": "2022-02-12T03:58:23.653190Z",
     "iopub.status.idle": "2022-02-12T03:58:23.901176Z",
     "shell.execute_reply": "2022-02-12T03:58:23.900362Z",
     "shell.execute_reply.started": "2022-02-12T03:58:23.653403Z"
    }
   },
   "outputs": [],
   "source": [
    "# 3-D Scatterplot against PC1, PC2 and PC3\n",
    "ax = plt.figure(figsize=(16,12)).gca(projection='3d')\n",
    "\n",
    "# Row masks for each category\n",
    "rows_0 = y=='n';\n",
    "rows_1 = y=='t2d'; \n",
    "\n",
    "ax.scatter(\n",
    "    xs=data.loc[rndperm,:][\"pca-one\"], \n",
    "    ys=data.loc[rndperm,:][\"pca-two\"], \n",
    "    zs=data.loc[rndperm,:][\"pca-three\"], \n",
    "    c=data.loc[rndperm,:][\"TypeClass\"], \n",
    "    cmap='tab10'\n",
    ")\n",
    "\n",
    "ax.set_xlabel('pca-one')\n",
    "ax.set_ylabel('pca-two')\n",
    "ax.set_zlabel('pca-three')\n",
    "plt.show();"
   ]
  },
  {
   "cell_type": "markdown",
   "metadata": {},
   "source": [
    "# t-SNE implementation:"
   ]
  },
  {
   "cell_type": "code",
   "execution_count": null,
   "metadata": {
    "execution": {
     "iopub.execute_input": "2022-02-12T03:58:25.429760Z",
     "iopub.status.busy": "2022-02-12T03:58:25.428875Z",
     "iopub.status.idle": "2022-02-12T03:58:25.473102Z",
     "shell.execute_reply": "2022-02-12T03:58:25.472284Z",
     "shell.execute_reply.started": "2022-02-12T03:58:25.429706Z"
    }
   },
   "outputs": [],
   "source": [
    "data_subset = data[features].values\n",
    "pca = PCA(n_components=3)\n",
    "pca_result = pca.fit_transform(data_subset)\n",
    "\n",
    "data['pca-one'] = pca_result[:,0]\n",
    "data['pca-two'] = pca_result[:,1] \n",
    "data['pca-three'] = pca_result[:,2]\n",
    "\n",
    "print('Explained variation per principal component: {}'.format(pca.explained_variance_ratio_))\n"
   ]
  },
  {
   "cell_type": "code",
   "execution_count": null,
   "metadata": {
    "execution": {
     "iopub.execute_input": "2022-02-12T04:07:51.430867Z",
     "iopub.status.busy": "2022-02-12T04:07:51.430583Z",
     "iopub.status.idle": "2022-02-12T04:07:52.607476Z",
     "shell.execute_reply": "2022-02-12T04:07:52.606812Z",
     "shell.execute_reply.started": "2022-02-12T04:07:51.430836Z"
    }
   },
   "outputs": [],
   "source": [
    "tsne = TSNE(n_components=3, verbose=1, perplexity=40, n_iter=300)\n",
    "tsne_results = tsne.fit_transform(data_subset)\n",
    "# print('t-SNE done! Time elapsed: {} seconds'.format(time.time()-time_start))\n",
    "tsne_results = pd.DataFrame(tsne_results)\n",
    "tsne_results"
   ]
  },
  {
   "cell_type": "code",
   "execution_count": null,
   "metadata": {
    "execution": {
     "iopub.execute_input": "2022-02-12T04:36:38.740827Z",
     "iopub.status.busy": "2022-02-12T04:36:38.740168Z",
     "iopub.status.idle": "2022-02-12T04:36:38.967486Z",
     "shell.execute_reply": "2022-02-12T04:36:38.966701Z",
     "shell.execute_reply.started": "2022-02-12T04:36:38.740781Z"
    }
   },
   "outputs": [],
   "source": [
    "fig, ax = plt.subplots(1,1, figsize=(16,12))\n",
    "\n",
    "rows_0 = y=='n';\n",
    "rows_1 = y=='t2d'; \n",
    "\n",
    "# Plot\n",
    "ax.scatter(tsne_results.loc[rows_0.tolist(), 1], tsne_results.loc[rows_0.tolist(), 2], c='blue', edgecolor='k', s=120, label='No')\n",
    "ax.scatter(tsne_results.loc[rows_1.tolist(), 1], tsne_results.loc[rows_1.tolist(), 2], c='red', edgecolor='k', s=120, label='Yes')\n",
    "\n",
    "# data['tsne-2d-one'] = tsne_results[:,0]\n",
    "# data['tsne-2d-two'] = tsne_results[:,1]\n",
    "\n",
    "ax.set_title(\"Microbiome Data for 1 & 2 : Scatterplot of First Two t-SNE directions\", fontsize=22)\n",
    "ax.set_xlabel(\"tsne-2d-one\", fontsize=22)\n",
    "ax.set_ylabel(\"tsne-2d-two\", fontsize=22)\n",
    "ax.legend(loc='upper right', title='Diabetes', fontsize=16)\n",
    "plt.show();"
   ]
  },
  {
   "cell_type": "code",
   "execution_count": null,
   "metadata": {
    "execution": {
     "iopub.execute_input": "2022-02-12T03:58:37.479618Z",
     "iopub.status.busy": "2022-02-12T03:58:37.479335Z",
     "iopub.status.idle": "2022-02-12T03:58:37.486209Z",
     "shell.execute_reply": "2022-02-12T03:58:37.485523Z",
     "shell.execute_reply.started": "2022-02-12T03:58:37.479589Z"
    }
   },
   "outputs": [],
   "source": [
    "data['tsne-3d-one'] = tsne_results[:,0]\n",
    "data['tsne-3d-two'] = tsne_results[:,1]\n",
    "data['tsne-3d-three'] = tsne_results[:,2]\n"
   ]
  },
  {
   "cell_type": "code",
   "execution_count": null,
   "metadata": {
    "execution": {
     "iopub.execute_input": "2022-02-12T03:01:48.120552Z",
     "iopub.status.busy": "2022-02-12T03:01:48.120309Z",
     "iopub.status.idle": "2022-02-12T03:01:48.327234Z",
     "shell.execute_reply": "2022-02-12T03:01:48.326400Z",
     "shell.execute_reply.started": "2022-02-12T03:01:48.120524Z"
    }
   },
   "outputs": [],
   "source": [
    "ax = plt.figure(figsize=(16,12)).gca(projection='3d')\n",
    "\n",
    "# Row masks for each category\n",
    "rows_0 = y=='n';\n",
    "rows_1 = y=='t2d'; \n",
    "\n",
    "ax.scatter(\n",
    "    xs=data.loc[rndperm,:][\"tsne-3d-one\"], \n",
    "    ys=data.loc[rndperm,:][\"tsne-3d-two\"], \n",
    "    zs=data.loc[rndperm,:][\"tsne-3d-three\"], \n",
    "    c=data.loc[rndperm,:][\"TypeClass\"], \n",
    "    cmap='tab10'\n",
    ")\n",
    "\n",
    "ax.set_xlabel('tsne-one')\n",
    "ax.set_ylabel('tsne-two')\n",
    "ax.set_zlabel('tsne-three')\n",
    "plt.show();"
   ]
  },
  {
   "cell_type": "code",
   "execution_count": null,
   "metadata": {
    "execution": {
     "iopub.execute_input": "2022-02-12T04:42:41.416849Z",
     "iopub.status.busy": "2022-02-12T04:42:41.416091Z",
     "iopub.status.idle": "2022-02-12T04:42:41.918553Z",
     "shell.execute_reply": "2022-02-12T04:42:41.917576Z",
     "shell.execute_reply.started": "2022-02-12T04:42:41.416807Z"
    }
   },
   "outputs": [],
   "source": [
    "import numpy as np\n",
    "import matplotlib.pyplot as plt\n",
    "import os\n",
    "import math\n",
    "\n",
    "deltas = []\n",
    "for N in range(2,50,1):\n",
    "    P = [np.random.randint(-100, 100, N) for _ in range(500)]\n",
    "    Q = np.random.randint(-100,100,N)\n",
    "    diffs = [np.linalg.norm(p-Q) for p in P]\n",
    "    mxd = max(diffs)\n",
    "    mnd = min(diffs)\n",
    "    delta = math.log10(mxd-mnd)/mnd\n",
    "    deltas.append( delta )\n",
    "\n",
    "plt.plot(range(2,50,1),deltas)\n",
    "plt.show()"
   ]
  },
  {
   "cell_type": "code",
   "execution_count": null,
   "metadata": {},
   "outputs": [],
   "source": []
  },
  {
   "cell_type": "code",
   "execution_count": null,
   "metadata": {},
   "outputs": [],
   "source": []
  }
 ],
 "metadata": {
  "kernelspec": {
   "display_name": "Python 3",
   "language": "python",
   "name": "python3"
  },
  "language_info": {
   "codemirror_mode": {
    "name": "ipython",
    "version": 3
   },
   "file_extension": ".py",
   "mimetype": "text/x-python",
   "name": "python",
   "nbconvert_exporter": "python",
   "pygments_lexer": "ipython3",
   "version": "3.8.8"
  }
 },
 "nbformat": 4,
 "nbformat_minor": 4
}
