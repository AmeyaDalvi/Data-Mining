{
 "cells": [
  {
   "cell_type": "code",
   "execution_count": 28,
   "id": "ad80364d",
   "metadata": {},
   "outputs": [],
   "source": [
    "try:\n",
    "    import urllib.request as urllib2\n",
    "except ImportError:\n",
    "    import urllib2\n",
    "import html2text\n",
    "url=''\n",
    "page = urllib2.urlopen('https://www.cnn.com/2022/02/23/health/pets-brain-health-study-wellness/index.html')\n",
    "html_content = page.read()\n"
   ]
  },
  {
   "cell_type": "code",
   "execution_count": 29,
   "id": "4d7f3164",
   "metadata": {},
   "outputs": [
    {
     "name": "stdout",
     "output_type": "stream",
     "text": [
      "Requirement already satisfied: html2text in ./opt/anaconda3/lib/python3.8/site-packages (2020.1.16)\n",
      "Note: you may need to restart the kernel to use updated packages.\n"
     ]
    }
   ],
   "source": [
    "pip install html2text"
   ]
  },
  {
   "cell_type": "code",
   "execution_count": 30,
   "id": "d7e4033f",
   "metadata": {},
   "outputs": [
    {
     "name": "stdout",
     "output_type": "stream",
     "text": [
      "Requirement already satisfied: newspaper3k in ./opt/anaconda3/lib/python3.8/site-packages (0.2.8)\n",
      "Requirement already satisfied: python-dateutil>=2.5.3 in ./opt/anaconda3/lib/python3.8/site-packages (from newspaper3k) (2.8.1)\n",
      "Requirement already satisfied: nltk>=3.2.1 in ./opt/anaconda3/lib/python3.8/site-packages (from newspaper3k) (3.6.1)\n",
      "Requirement already satisfied: lxml>=3.6.0 in ./opt/anaconda3/lib/python3.8/site-packages (from newspaper3k) (4.6.3)\n",
      "Requirement already satisfied: tinysegmenter==0.3 in ./opt/anaconda3/lib/python3.8/site-packages (from newspaper3k) (0.3)\n",
      "Requirement already satisfied: feedparser>=5.2.1 in ./opt/anaconda3/lib/python3.8/site-packages (from newspaper3k) (6.0.8)\n",
      "Requirement already satisfied: cssselect>=0.9.2 in ./opt/anaconda3/lib/python3.8/site-packages (from newspaper3k) (1.1.0)\n",
      "Requirement already satisfied: jieba3k>=0.35.1 in ./opt/anaconda3/lib/python3.8/site-packages (from newspaper3k) (0.35.1)\n",
      "Requirement already satisfied: PyYAML>=3.11 in ./opt/anaconda3/lib/python3.8/site-packages (from newspaper3k) (5.4.1)\n",
      "Requirement already satisfied: Pillow>=3.3.0 in ./opt/anaconda3/lib/python3.8/site-packages (from newspaper3k) (8.2.0)\n",
      "Requirement already satisfied: tldextract>=2.0.1 in ./opt/anaconda3/lib/python3.8/site-packages (from newspaper3k) (3.2.0)\n",
      "Requirement already satisfied: requests>=2.10.0 in ./opt/anaconda3/lib/python3.8/site-packages (from newspaper3k) (2.25.1)\n",
      "Requirement already satisfied: feedfinder2>=0.0.4 in ./opt/anaconda3/lib/python3.8/site-packages (from newspaper3k) (0.0.4)\n",
      "Requirement already satisfied: beautifulsoup4>=4.4.1 in ./opt/anaconda3/lib/python3.8/site-packages (from newspaper3k) (4.9.3)\n",
      "Requirement already satisfied: soupsieve>1.2 in ./opt/anaconda3/lib/python3.8/site-packages (from beautifulsoup4>=4.4.1->newspaper3k) (2.2.1)\n",
      "Requirement already satisfied: six in ./opt/anaconda3/lib/python3.8/site-packages (from feedfinder2>=0.0.4->newspaper3k) (1.15.0)\n",
      "Requirement already satisfied: sgmllib3k in ./opt/anaconda3/lib/python3.8/site-packages (from feedparser>=5.2.1->newspaper3k) (1.0.0)\n",
      "Requirement already satisfied: regex in ./opt/anaconda3/lib/python3.8/site-packages (from nltk>=3.2.1->newspaper3k) (2021.4.4)\n",
      "Requirement already satisfied: click in ./opt/anaconda3/lib/python3.8/site-packages (from nltk>=3.2.1->newspaper3k) (7.1.2)\n",
      "Requirement already satisfied: joblib in ./opt/anaconda3/lib/python3.8/site-packages (from nltk>=3.2.1->newspaper3k) (1.0.1)\n",
      "Requirement already satisfied: tqdm in ./opt/anaconda3/lib/python3.8/site-packages (from nltk>=3.2.1->newspaper3k) (4.59.0)\n",
      "Requirement already satisfied: idna<3,>=2.5 in ./opt/anaconda3/lib/python3.8/site-packages (from requests>=2.10.0->newspaper3k) (2.10)\n",
      "Requirement already satisfied: certifi>=2017.4.17 in ./opt/anaconda3/lib/python3.8/site-packages (from requests>=2.10.0->newspaper3k) (2021.10.8)\n",
      "Requirement already satisfied: urllib3<1.27,>=1.21.1 in ./opt/anaconda3/lib/python3.8/site-packages (from requests>=2.10.0->newspaper3k) (1.26.4)\n",
      "Requirement already satisfied: chardet<5,>=3.0.2 in ./opt/anaconda3/lib/python3.8/site-packages (from requests>=2.10.0->newspaper3k) (4.0.0)\n",
      "Requirement already satisfied: requests-file>=1.4 in ./opt/anaconda3/lib/python3.8/site-packages (from tldextract>=2.0.1->newspaper3k) (1.5.1)\n",
      "Requirement already satisfied: filelock>=3.0.8 in ./opt/anaconda3/lib/python3.8/site-packages (from tldextract>=2.0.1->newspaper3k) (3.0.12)\n",
      "Note: you may need to restart the kernel to use updated packages.\n"
     ]
    }
   ],
   "source": [
    "pip install newspaper3k"
   ]
  },
  {
   "cell_type": "code",
   "execution_count": 31,
   "id": "7ebf6c1e",
   "metadata": {},
   "outputs": [
    {
     "name": "stderr",
     "output_type": "stream",
     "text": [
      "[nltk_data] Downloading package punkt to\n",
      "[nltk_data]     /Users/ameyadalvi/nltk_data...\n",
      "[nltk_data]   Package punkt is already up-to-date!\n"
     ]
    },
    {
     "data": {
      "text/plain": [
       "True"
      ]
     },
     "execution_count": 31,
     "metadata": {},
     "output_type": "execute_result"
    }
   ],
   "source": [
    "from newspaper import Article\n",
    "import nltk\n",
    "\n",
    "nltk.download('punkt')"
   ]
  },
  {
   "cell_type": "markdown",
   "id": "d2d543f2-32e3-4436-90f2-93764e2c73b0",
   "metadata": {},
   "source": [
    "## CNN Article - \n",
    "<a href = \"https://www.cnn.com/2022/02/23/health/pets-brain-health-study-wellness/index.html\">Link</a>"
   ]
  },
  {
   "cell_type": "code",
   "execution_count": 32,
   "id": "8af55db8",
   "metadata": {},
   "outputs": [],
   "source": [
    "url= 'https://www.cnn.com/2022/02/23/health/pets-brain-health-study-wellness/index.html'\n",
    "article = Article(url, language=\"en\")\n",
    "article.download() \n",
    "article.parse() \n",
    "article.nlp()"
   ]
  },
  {
   "cell_type": "code",
   "execution_count": 38,
   "id": "272e1750",
   "metadata": {},
   "outputs": [],
   "source": [
    "file1=open(\"/Users/ameyadalvi/Downloads/CNNNewsFile.txt\", \"w+\")\n",
    "file1.write(\"Title:\\n\")\n",
    "file1.write(article.title)\n",
    "file1.write(\"\\n\\nArticle Text:\\n\")\n",
    "file1.write(article.text)\n",
    "file1.write(\"\\n\\n\\nArticle Keywords:\\n\")\n",
    "keywords='\\n'.join(article.keywords)\n",
    "file1.write(keywords)\n",
    "file1.close()"
   ]
  },
  {
   "cell_type": "markdown",
   "id": "8da4142c-8387-4cb7-868c-6ecd2be5e073",
   "metadata": {},
   "source": [
    "## People - \n",
    "<a href = \"https://people.com/pets/long-term-pet-ownership-can-slow-cognitive-decline-seniors-study/\">Link</a>"
   ]
  },
  {
   "cell_type": "code",
   "execution_count": 37,
   "id": "bb74bdc2-6f0e-4b99-ab19-bd09af5fb7cd",
   "metadata": {},
   "outputs": [],
   "source": [
    "url= 'https://people.com/pets/long-term-pet-ownership-can-slow-cognitive-decline-seniors-study/'\n",
    "article = Article(url, language=\"en\")\n",
    "article.download() \n",
    "article.parse() \n",
    "article.nlp()"
   ]
  },
  {
   "cell_type": "code",
   "execution_count": 39,
   "id": "37107668-dd9e-4789-823d-b46bffd28881",
   "metadata": {},
   "outputs": [],
   "source": [
    "file1=open(\"/Users/ameyadalvi/Downloads/PeopleNewsFile.txt\", \"w+\")\n",
    "file1.write(\"Title:\\n\")\n",
    "file1.write(article.title)\n",
    "file1.write(\"\\n\\nArticle Text:\\n\")\n",
    "file1.write(article.text)\n",
    "file1.write(\"\\n\\n\\nArticle Keywords:\\n\")\n",
    "keywords='\\n'.join(article.keywords)\n",
    "file1.write(keywords)\n",
    "file1.close()"
   ]
  },
  {
   "cell_type": "markdown",
   "id": "c8533ecc-9f80-407d-ac45-39db73af93fb",
   "metadata": {},
   "source": [
    "## Science Daily -\n",
    "<a href = \"https://www.sciencedaily.com/releases/2022/02/220223210035.htm\">Link</a>"
   ]
  },
  {
   "cell_type": "code",
   "execution_count": 40,
   "id": "52908a1c-f0ae-49ad-a2c2-f5075edd604c",
   "metadata": {},
   "outputs": [],
   "source": [
    "url= 'https://www.sciencedaily.com/releases/2022/02/220223210035.htm'\n",
    "article = Article(url, language=\"en\")\n",
    "article.download() \n",
    "article.parse() \n",
    "article.nlp()"
   ]
  },
  {
   "cell_type": "code",
   "execution_count": 41,
   "id": "da4df327-28f2-4a2d-a7eb-ab61b4afcc56",
   "metadata": {},
   "outputs": [],
   "source": [
    "file1=open(\"/Users/ameyadalvi/Downloads/SDNewsFile.txt\", \"w+\")\n",
    "file1.write(\"Title:\\n\")\n",
    "file1.write(article.title)\n",
    "file1.write(\"\\n\\nArticle Text:\\n\")\n",
    "file1.write(article.text)\n",
    "file1.write(\"\\n\\n\\nArticle Keywords:\\n\")\n",
    "keywords='\\n'.join(article.keywords)\n",
    "file1.write(keywords)\n",
    "file1.close()"
   ]
  },
  {
   "cell_type": "markdown",
   "id": "a129265b-e71a-4b7b-a93d-302da80cf6ef",
   "metadata": {},
   "source": [
    "## ABC7 -\n",
    "<a href = \"https://abc7.com/pets-animals-boosting-brain-power-health-care/11605216/#:~:text=It's%20not%20just%20cats%20and,%2C%20birds%2C%20fish%20and%20reptiles.&text=Having%20a%20long%2Dterm%20pet,a%20new%20study%20has%20found.\">Link</a>"
   ]
  },
  {
   "cell_type": "code",
   "execution_count": 43,
   "id": "d5d771b7-c2d8-44c1-81f6-64e62f120b84",
   "metadata": {},
   "outputs": [],
   "source": [
    "url= \"https://abc7.com/pets-animals-boosting-brain-power-health-care/11605216/#:~:text=It's%20not%20just%20cats%20and,%2C%20birds%2C%20fish%20and%20reptiles.&text=Having%20a%20long%2Dterm%20pet,a%20new%20study%20has%20found.\"\n",
    "article = Article(url, language=\"en\")\n",
    "article.download() \n",
    "article.parse() \n",
    "article.nlp()"
   ]
  },
  {
   "cell_type": "code",
   "execution_count": 44,
   "id": "92e76807-de2b-457e-8379-97d90875dd3e",
   "metadata": {},
   "outputs": [],
   "source": [
    "file1=open(\"/Users/ameyadalvi/Downloads/ABC7NewsFile.txt\", \"w+\")\n",
    "file1.write(\"Title:\\n\")\n",
    "file1.write(article.title)\n",
    "file1.write(\"\\n\\nArticle Text:\\n\")\n",
    "file1.write(article.text)\n",
    "file1.write(\"\\n\\n\\nArticle Keywords:\\n\")\n",
    "keywords='\\n'.join(article.keywords)\n",
    "file1.write(keywords)\n",
    "file1.close()"
   ]
  },
  {
   "cell_type": "markdown",
   "id": "eaaf742b-0da3-4fb4-8b98-731e4bd15e91",
   "metadata": {},
   "source": [
    "## FOX19 -\n",
    "<a href = \"https://www.fox19.com/2022/02/25/pets-can-boost-your-brain-power-study-shows/\">Link</a>"
   ]
  },
  {
   "cell_type": "code",
   "execution_count": 45,
   "id": "5b19a3aa-6a06-45a1-a305-7b272852ec49",
   "metadata": {},
   "outputs": [],
   "source": [
    "url= \"https://www.fox19.com/2022/02/25/pets-can-boost-your-brain-power-study-shows/\"\n",
    "article = Article(url, language=\"en\")\n",
    "article.download() \n",
    "article.parse() \n",
    "article.nlp()"
   ]
  },
  {
   "cell_type": "code",
   "execution_count": 46,
   "id": "ce338bd6-80d8-4858-aea8-f0aafa1bbb2c",
   "metadata": {},
   "outputs": [],
   "source": [
    "file1=open(\"/Users/ameyadalvi/Downloads/Fox19NewsFile.txt\", \"w+\")\n",
    "file1.write(\"Title:\\n\")\n",
    "file1.write(article.title)\n",
    "file1.write(\"\\n\\nArticle Text:\\n\")\n",
    "file1.write(article.text)\n",
    "file1.write(\"\\n\\n\\nArticle Keywords:\\n\")\n",
    "keywords='\\n'.join(article.keywords)\n",
    "file1.write(keywords)\n",
    "file1.close()"
   ]
  },
  {
   "cell_type": "markdown",
   "id": "63721fd1-f52c-4078-971f-e11ea2d7dcef",
   "metadata": {},
   "source": [
    "## Audacy -\n",
    "<a href = \"https://www.audacy.com/fm1019/news/pets-can-boost-your-brain-power-study-says\">Link</a>"
   ]
  },
  {
   "cell_type": "code",
   "execution_count": 47,
   "id": "0c5072de-6707-45d4-a4fd-55e1b3361475",
   "metadata": {},
   "outputs": [],
   "source": [
    "url= \"https://www.audacy.com/fm1019/news/pets-can-boost-your-brain-power-study-says\"\n",
    "article = Article(url, language=\"en\")\n",
    "article.download() \n",
    "article.parse() \n",
    "article.nlp()"
   ]
  },
  {
   "cell_type": "code",
   "execution_count": 48,
   "id": "495fb4fa-4495-4787-8d63-29261bd3b65a",
   "metadata": {},
   "outputs": [],
   "source": [
    "file1=open(\"/Users/ameyadalvi/Downloads/AudacyNewsFile.txt\", \"w+\")\n",
    "file1.write(\"Title:\\n\")\n",
    "file1.write(article.title)\n",
    "file1.write(\"\\n\\nArticle Text:\\n\")\n",
    "file1.write(article.text)\n",
    "file1.write(\"\\n\\n\\nArticle Keywords:\\n\")\n",
    "keywords='\\n'.join(article.keywords)\n",
    "file1.write(keywords)\n",
    "file1.close()"
   ]
  },
  {
   "cell_type": "markdown",
   "id": "d9beec08-2b60-4bf3-adbb-1eda62780c54",
   "metadata": {},
   "source": [
    "## KSL -\n",
    "<a href = \"https://www.ksl.com/article/50354627/pets-can-boost-your-brain-power-study-says\">Link</a>"
   ]
  },
  {
   "cell_type": "code",
   "execution_count": 57,
   "id": "f63bf889-f4f9-49cc-9813-283fe956faeb",
   "metadata": {},
   "outputs": [],
   "source": [
    "url= \"https://www.ksl.com/article/50354627/pets-can-boost-your-brain-power-study-says\"\n",
    "article = Article(url, language=\"en\")\n",
    "article.download() \n",
    "article.parse() \n",
    "article.nlp()"
   ]
  },
  {
   "cell_type": "code",
   "execution_count": 58,
   "id": "b2e17004-ee37-4341-8933-89dce2887cb2",
   "metadata": {},
   "outputs": [],
   "source": [
    "file1=open(\"/Users/ameyadalvi/Downloads/KSLNewsFile.txt\", \"w+\")\n",
    "file1.write(\"Title:\\n\")\n",
    "file1.write(article.title)\n",
    "file1.write(\"\\n\\nArticle Text:\\n\")\n",
    "file1.write(article.text)\n",
    "file1.write(\"\\n\\n\\nArticle Keywords:\\n\")\n",
    "keywords='\\n'.join(article.keywords)\n",
    "file1.write(keywords)\n",
    "file1.close()"
   ]
  },
  {
   "cell_type": "markdown",
   "id": "588f1e31-bc2b-4f1e-b8a3-c790b33c12c1",
   "metadata": {},
   "source": [
    "## AARP -\n",
    "<a href = \"https://www.aarp.org/home-family/your-home/info-2022/pet-ownership-and-cognition.html\">Link</a>"
   ]
  },
  {
   "cell_type": "code",
   "execution_count": 51,
   "id": "cedb229a-83c9-4260-b6cd-da9ea551f31f",
   "metadata": {},
   "outputs": [],
   "source": [
    "url= \"https://www.aarp.org/home-family/your-home/info-2022/pet-ownership-and-cognition.html\"\n",
    "article = Article(url, language=\"en\")\n",
    "article.download() \n",
    "article.parse() \n",
    "article.nlp()"
   ]
  },
  {
   "cell_type": "code",
   "execution_count": 52,
   "id": "815e9a85-a3db-4531-89a8-974db2c88382",
   "metadata": {},
   "outputs": [],
   "source": [
    "file1=open(\"/Users/ameyadalvi/Downloads/AARPNewsFile.txt\", \"w+\")\n",
    "file1.write(\"Title:\\n\")\n",
    "file1.write(article.title)\n",
    "file1.write(\"\\n\\nArticle Text:\\n\")\n",
    "file1.write(article.text)\n",
    "file1.write(\"\\n\\n\\nArticle Keywords:\\n\")\n",
    "keywords='\\n'.join(article.keywords)\n",
    "file1.write(keywords)\n",
    "file1.close()"
   ]
  },
  {
   "cell_type": "markdown",
   "id": "987b837d-f51c-4502-a0c6-1f5ba70b627d",
   "metadata": {},
   "source": [
    "## Yahoo -\n",
    "<a href = \"https://news.yahoo.com/long-term-pet-ownership-slow-204010678.html?guccounter=1&guce_referrer=aHR0cHM6Ly93d3cuZ29vZ2xlLmNvbS8&guce_referrer_sig=AQAAAIvv_Zd22J0sCBVfAuOAGhCPa-sTx-6bBi_zsY1MGTUttxBpAzwhqe8a_LnFMUC4P_BENUXAZH_QVaJcUrsbDtXV4V7GaKm-rmX8336rCLzI20JJ6OwdIHaWnIXeFQ5Em18PB3V9GP01VMGdz2bCRqwEETKKiXT7rJpXiOljpdD0\">Link</a>"
   ]
  },
  {
   "cell_type": "code",
   "execution_count": 53,
   "id": "1f2c7e17-4050-4877-9a9f-e429cb6a0960",
   "metadata": {},
   "outputs": [],
   "source": [
    "url= \"https://news.yahoo.com/long-term-pet-ownership-slow-204010678.html?guccounter=1&guce_referrer=aHR0cHM6Ly93d3cuZ29vZ2xlLmNvbS8&guce_referrer_sig=AQAAAIvv_Zd22J0sCBVfAuOAGhCPa-sTx-6bBi_zsY1MGTUttxBpAzwhqe8a_LnFMUC4P_BENUXAZH_QVaJcUrsbDtXV4V7GaKm-rmX8336rCLzI20JJ6OwdIHaWnIXeFQ5Em18PB3V9GP01VMGdz2bCRqwEETKKiXT7rJpXiOljpdD0\"\n",
    "article = Article(url, language=\"en\")\n",
    "article.download() \n",
    "article.parse() \n",
    "article.nlp()"
   ]
  },
  {
   "cell_type": "code",
   "execution_count": 54,
   "id": "f23a740b-d666-4343-a825-2989e42f8359",
   "metadata": {},
   "outputs": [],
   "source": [
    "file1=open(\"/Users/ameyadalvi/Downloads/YahooNewsFile.txt\", \"w+\")\n",
    "file1.write(\"Title:\\n\")\n",
    "file1.write(article.title)\n",
    "file1.write(\"\\n\\nArticle Text:\\n\")\n",
    "file1.write(article.text)\n",
    "file1.write(\"\\n\\n\\nArticle Keywords:\\n\")\n",
    "keywords='\\n'.join(article.keywords)\n",
    "file1.write(keywords)\n",
    "file1.close()"
   ]
  },
  {
   "cell_type": "markdown",
   "id": "45ecd48f-c827-4756-a6b8-da373147dcb0",
   "metadata": {},
   "source": [
    "## HOLA -\n",
    "<a href = \"https://www.hola.com/us/lifestyle/20220228310085/owning-pets-positive-brain-mental-health/\">Link</a>"
   ]
  },
  {
   "cell_type": "code",
   "execution_count": 55,
   "id": "259e4e59-2f05-463e-bf72-997f6f1032de",
   "metadata": {},
   "outputs": [],
   "source": [
    "url= \"https://www.hola.com/us/lifestyle/20220228310085/owning-pets-positive-brain-mental-health/\"\n",
    "article = Article(url, language=\"en\")\n",
    "article.download() \n",
    "article.parse() \n",
    "article.nlp()"
   ]
  },
  {
   "cell_type": "code",
   "execution_count": 56,
   "id": "117c792f-033c-486a-bf40-0fe0f8b90f32",
   "metadata": {},
   "outputs": [],
   "source": [
    "file1=open(\"/Users/ameyadalvi/Downloads/HolaNewsFile.txt\", \"w+\")\n",
    "file1.write(\"Title:\\n\")\n",
    "file1.write(article.title)\n",
    "file1.write(\"\\n\\nArticle Text:\\n\")\n",
    "file1.write(article.text)\n",
    "file1.write(\"\\n\\n\\nArticle Keywords:\\n\")\n",
    "keywords='\\n'.join(article.keywords)\n",
    "file1.write(keywords)\n",
    "file1.close()"
   ]
  },
  {
   "cell_type": "code",
   "execution_count": null,
   "id": "8307c32d-b550-4e2e-89da-d360c890d984",
   "metadata": {},
   "outputs": [],
   "source": []
  }
 ],
 "metadata": {
  "kernelspec": {
   "display_name": "Python 3",
   "language": "python",
   "name": "python3"
  },
  "language_info": {
   "codemirror_mode": {
    "name": "ipython",
    "version": 3
   },
   "file_extension": ".py",
   "mimetype": "text/x-python",
   "name": "python",
   "nbconvert_exporter": "python",
   "pygments_lexer": "ipython3",
   "version": "3.8.8"
  }
 },
 "nbformat": 4,
 "nbformat_minor": 5
}
