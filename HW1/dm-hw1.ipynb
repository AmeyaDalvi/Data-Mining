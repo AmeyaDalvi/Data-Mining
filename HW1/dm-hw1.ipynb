{
 "cells": [
  {
   "cell_type": "code",
   "execution_count": 1,
   "metadata": {
    "_cell_guid": "b1076dfc-b9ad-4769-8c92-a6c4dae69d19",
    "_uuid": "8f2839f25d086af736a60e9eeb907d3b93b6e0e5",
    "execution": {
     "iopub.execute_input": "2022-01-27T23:44:14.293369Z",
     "iopub.status.busy": "2022-01-27T23:44:14.293060Z",
     "iopub.status.idle": "2022-01-27T23:44:14.332549Z",
     "shell.execute_reply": "2022-01-27T23:44:14.331922Z",
     "shell.execute_reply.started": "2022-01-27T23:44:14.293289Z"
    }
   },
   "outputs": [],
   "source": [
    "# This Python 3 environment comes with many helpful analytics libraries installed\n",
    "# It is defined by the kaggle/python Docker image: https://github.com/kaggle/docker-python\n",
    "# For example, here's several helpful packages to load\n",
    "\n",
    "import numpy as np # linear algebra\n",
    "import pandas as pd # data processing, CSV file I/O (e.g. pd.read_csv)\n",
    "\n",
    "# Input data files are available in the read-only \"../input/\" directory\n",
    "# For example, running this (by clicking run or pressing Shift+Enter) will list all files under the input directory\n",
    "\n",
    "import os\n",
    "for dirname, _, filenames in os.walk('/kaggle/input'):\n",
    "    for filename in filenames:\n",
    "        print(os.path.join(dirname, filename))\n",
    "\n",
    "# You can write up to 20GB to the current directory (/kaggle/working/) that gets preserved as output when you create a version using \"Save & Run All\" \n",
    "# You can also write temporary files to /kaggle/temp/, but they won't be saved outside of the current session"
   ]
  },
  {
   "cell_type": "markdown",
   "metadata": {},
   "source": [
    "## Importing Efaecium_AMRC dataset into a dataframe"
   ]
  },
  {
   "cell_type": "code",
   "execution_count": 4,
   "metadata": {
    "execution": {
     "iopub.execute_input": "2022-01-27T23:44:16.206442Z",
     "iopub.status.busy": "2022-01-27T23:44:16.205784Z",
     "iopub.status.idle": "2022-01-27T23:44:16.243536Z",
     "shell.execute_reply": "2022-01-27T23:44:16.242715Z",
     "shell.execute_reply.started": "2022-01-27T23:44:16.206406Z"
    }
   },
   "outputs": [
    {
     "data": {
      "text/html": [
       "<div>\n",
       "<style scoped>\n",
       "    .dataframe tbody tr th:only-of-type {\n",
       "        vertical-align: middle;\n",
       "    }\n",
       "\n",
       "    .dataframe tbody tr th {\n",
       "        vertical-align: top;\n",
       "    }\n",
       "\n",
       "    .dataframe thead th {\n",
       "        text-align: right;\n",
       "    }\n",
       "</style>\n",
       "<table border=\"1\" class=\"dataframe\">\n",
       "  <thead>\n",
       "    <tr style=\"text-align: right;\">\n",
       "      <th></th>\n",
       "      <th>genome_ID</th>\n",
       "      <th>CRISPR_Cas</th>\n",
       "      <th>AMR</th>\n",
       "    </tr>\n",
       "  </thead>\n",
       "  <tbody>\n",
       "    <tr>\n",
       "      <th>0</th>\n",
       "      <td>GCA_010120755.1_ASM1012075v1</td>\n",
       "      <td>0</td>\n",
       "      <td>8</td>\n",
       "    </tr>\n",
       "    <tr>\n",
       "      <th>1</th>\n",
       "      <td>GCA_001720945.1_ASM172094v1</td>\n",
       "      <td>0</td>\n",
       "      <td>21</td>\n",
       "    </tr>\n",
       "    <tr>\n",
       "      <th>2</th>\n",
       "      <td>GCA_009697285.1_ASM969728v1</td>\n",
       "      <td>0</td>\n",
       "      <td>13</td>\n",
       "    </tr>\n",
       "    <tr>\n",
       "      <th>3</th>\n",
       "      <td>GCA_900639535.1_E8202_hybrid_assembly</td>\n",
       "      <td>0</td>\n",
       "      <td>11</td>\n",
       "    </tr>\n",
       "    <tr>\n",
       "      <th>4</th>\n",
       "      <td>GCA_002007625.1_ASM200762v1</td>\n",
       "      <td>0</td>\n",
       "      <td>18</td>\n",
       "    </tr>\n",
       "    <tr>\n",
       "      <th>...</th>\n",
       "      <td>...</td>\n",
       "      <td>...</td>\n",
       "      <td>...</td>\n",
       "    </tr>\n",
       "    <tr>\n",
       "      <th>2218</th>\n",
       "      <td>GCA_001058635.1_ASM105863v1</td>\n",
       "      <td>0</td>\n",
       "      <td>24</td>\n",
       "    </tr>\n",
       "    <tr>\n",
       "      <th>2219</th>\n",
       "      <td>GCA_900148625.1_Hp_24-1_05</td>\n",
       "      <td>0</td>\n",
       "      <td>16</td>\n",
       "    </tr>\n",
       "    <tr>\n",
       "      <th>2220</th>\n",
       "      <td>GCA_000981965.1_ASM98196v1</td>\n",
       "      <td>0</td>\n",
       "      <td>0</td>\n",
       "    </tr>\n",
       "    <tr>\n",
       "      <th>2221</th>\n",
       "      <td>GCA_002158235.1_ASM215823v1</td>\n",
       "      <td>0</td>\n",
       "      <td>10</td>\n",
       "    </tr>\n",
       "    <tr>\n",
       "      <th>2222</th>\n",
       "      <td>GCA_900080195.1_Isolate_3</td>\n",
       "      <td>0</td>\n",
       "      <td>18</td>\n",
       "    </tr>\n",
       "  </tbody>\n",
       "</table>\n",
       "<p>2223 rows × 3 columns</p>\n",
       "</div>"
      ],
      "text/plain": [
       "                                  genome_ID  CRISPR_Cas  AMR\n",
       "0              GCA_010120755.1_ASM1012075v1           0    8\n",
       "1               GCA_001720945.1_ASM172094v1           0   21\n",
       "2               GCA_009697285.1_ASM969728v1           0   13\n",
       "3     GCA_900639535.1_E8202_hybrid_assembly           0   11\n",
       "4               GCA_002007625.1_ASM200762v1           0   18\n",
       "...                                     ...         ...  ...\n",
       "2218            GCA_001058635.1_ASM105863v1           0   24\n",
       "2219             GCA_900148625.1_Hp_24-1_05           0   16\n",
       "2220             GCA_000981965.1_ASM98196v1           0    0\n",
       "2221            GCA_002158235.1_ASM215823v1           0   10\n",
       "2222              GCA_900080195.1_Isolate_3           0   18\n",
       "\n",
       "[2223 rows x 3 columns]"
      ]
     },
     "execution_count": 4,
     "metadata": {},
     "output_type": "execute_result"
    }
   ],
   "source": [
    "data = pd.read_csv(\"/Users/ameyadalvi/Downloads/Efaecium_AMRC.csv\")\n",
    "data"
   ]
  },
  {
   "cell_type": "markdown",
   "metadata": {},
   "source": [
    "## Getting a summary of whole data using  **pandas.DataFrame.descirbe()**\n",
    "Intital distribution metrics like mean, standard deviation, minimum and maximum values, 1st Quartile, 2nd Quartile, 3rd Quartile values for all the columns "
   ]
  },
  {
   "cell_type": "code",
   "execution_count": 5,
   "metadata": {
    "execution": {
     "iopub.execute_input": "2022-01-27T23:44:17.430366Z",
     "iopub.status.busy": "2022-01-27T23:44:17.430099Z",
     "iopub.status.idle": "2022-01-27T23:44:17.460676Z",
     "shell.execute_reply": "2022-01-27T23:44:17.460066Z",
     "shell.execute_reply.started": "2022-01-27T23:44:17.430339Z"
    }
   },
   "outputs": [
    {
     "data": {
      "text/html": [
       "<div>\n",
       "<style scoped>\n",
       "    .dataframe tbody tr th:only-of-type {\n",
       "        vertical-align: middle;\n",
       "    }\n",
       "\n",
       "    .dataframe tbody tr th {\n",
       "        vertical-align: top;\n",
       "    }\n",
       "\n",
       "    .dataframe thead th {\n",
       "        text-align: right;\n",
       "    }\n",
       "</style>\n",
       "<table border=\"1\" class=\"dataframe\">\n",
       "  <thead>\n",
       "    <tr style=\"text-align: right;\">\n",
       "      <th></th>\n",
       "      <th>CRISPR_Cas</th>\n",
       "      <th>AMR</th>\n",
       "    </tr>\n",
       "  </thead>\n",
       "  <tbody>\n",
       "    <tr>\n",
       "      <th>count</th>\n",
       "      <td>2223.000000</td>\n",
       "      <td>2223.000000</td>\n",
       "    </tr>\n",
       "    <tr>\n",
       "      <th>mean</th>\n",
       "      <td>0.024741</td>\n",
       "      <td>10.330184</td>\n",
       "    </tr>\n",
       "    <tr>\n",
       "      <th>std</th>\n",
       "      <td>0.155371</td>\n",
       "      <td>6.661470</td>\n",
       "    </tr>\n",
       "    <tr>\n",
       "      <th>min</th>\n",
       "      <td>0.000000</td>\n",
       "      <td>0.000000</td>\n",
       "    </tr>\n",
       "    <tr>\n",
       "      <th>25%</th>\n",
       "      <td>0.000000</td>\n",
       "      <td>3.000000</td>\n",
       "    </tr>\n",
       "    <tr>\n",
       "      <th>50%</th>\n",
       "      <td>0.000000</td>\n",
       "      <td>12.000000</td>\n",
       "    </tr>\n",
       "    <tr>\n",
       "      <th>75%</th>\n",
       "      <td>0.000000</td>\n",
       "      <td>16.000000</td>\n",
       "    </tr>\n",
       "    <tr>\n",
       "      <th>max</th>\n",
       "      <td>1.000000</td>\n",
       "      <td>31.000000</td>\n",
       "    </tr>\n",
       "  </tbody>\n",
       "</table>\n",
       "</div>"
      ],
      "text/plain": [
       "        CRISPR_Cas          AMR\n",
       "count  2223.000000  2223.000000\n",
       "mean      0.024741    10.330184\n",
       "std       0.155371     6.661470\n",
       "min       0.000000     0.000000\n",
       "25%       0.000000     3.000000\n",
       "50%       0.000000    12.000000\n",
       "75%       0.000000    16.000000\n",
       "max       1.000000    31.000000"
      ]
     },
     "execution_count": 5,
     "metadata": {},
     "output_type": "execute_result"
    }
   ],
   "source": [
    "data.describe()"
   ]
  },
  {
   "cell_type": "markdown",
   "metadata": {},
   "source": [
    "## Getting general information of the data using pandas.DataFrame.info()\n",
    "Variable datatype, null value count etc can be observed."
   ]
  },
  {
   "cell_type": "code",
   "execution_count": 6,
   "metadata": {
    "execution": {
     "iopub.execute_input": "2022-01-27T23:44:18.431420Z",
     "iopub.status.busy": "2022-01-27T23:44:18.430768Z",
     "iopub.status.idle": "2022-01-27T23:44:18.446454Z",
     "shell.execute_reply": "2022-01-27T23:44:18.445783Z",
     "shell.execute_reply.started": "2022-01-27T23:44:18.431380Z"
    }
   },
   "outputs": [
    {
     "name": "stdout",
     "output_type": "stream",
     "text": [
      "<class 'pandas.core.frame.DataFrame'>\n",
      "RangeIndex: 2223 entries, 0 to 2222\n",
      "Data columns (total 3 columns):\n",
      " #   Column      Non-Null Count  Dtype \n",
      "---  ------      --------------  ----- \n",
      " 0   genome_ID   2223 non-null   object\n",
      " 1   CRISPR_Cas  2223 non-null   int64 \n",
      " 2   AMR         2223 non-null   int64 \n",
      "dtypes: int64(2), object(1)\n",
      "memory usage: 52.2+ KB\n"
     ]
    }
   ],
   "source": [
    "data.info()"
   ]
  },
  {
   "cell_type": "markdown",
   "metadata": {},
   "source": [
    "## Counting total number of null values in each column"
   ]
  },
  {
   "cell_type": "code",
   "execution_count": 7,
   "metadata": {
    "execution": {
     "iopub.execute_input": "2022-01-27T23:44:19.196057Z",
     "iopub.status.busy": "2022-01-27T23:44:19.195586Z",
     "iopub.status.idle": "2022-01-27T23:44:19.205019Z",
     "shell.execute_reply": "2022-01-27T23:44:19.204259Z",
     "shell.execute_reply.started": "2022-01-27T23:44:19.196019Z"
    }
   },
   "outputs": [
    {
     "data": {
      "text/plain": [
       "genome_ID     0\n",
       "CRISPR_Cas    0\n",
       "AMR           0\n",
       "dtype: int64"
      ]
     },
     "execution_count": 7,
     "metadata": {},
     "output_type": "execute_result"
    }
   ],
   "source": [
    "data.isnull().sum()"
   ]
  },
  {
   "cell_type": "markdown",
   "metadata": {},
   "source": [
    "## Counting total number of records for each output value for both the columns"
   ]
  },
  {
   "cell_type": "code",
   "execution_count": 8,
   "metadata": {
    "execution": {
     "iopub.execute_input": "2022-01-27T23:44:20.413719Z",
     "iopub.status.busy": "2022-01-27T23:44:20.413205Z",
     "iopub.status.idle": "2022-01-27T23:44:20.421148Z",
     "shell.execute_reply": "2022-01-27T23:44:20.420261Z",
     "shell.execute_reply.started": "2022-01-27T23:44:20.413650Z"
    }
   },
   "outputs": [
    {
     "data": {
      "text/plain": [
       "CRISPR_Cas\n",
       "0    2168\n",
       "1      55\n",
       "dtype: int64"
      ]
     },
     "execution_count": 8,
     "metadata": {},
     "output_type": "execute_result"
    }
   ],
   "source": [
    "data.value_counts(\"CRISPR_Cas\")"
   ]
  },
  {
   "cell_type": "code",
   "execution_count": 9,
   "metadata": {
    "execution": {
     "iopub.execute_input": "2022-01-27T23:44:21.201474Z",
     "iopub.status.busy": "2022-01-27T23:44:21.200892Z",
     "iopub.status.idle": "2022-01-27T23:44:21.208693Z",
     "shell.execute_reply": "2022-01-27T23:44:21.208000Z",
     "shell.execute_reply.started": "2022-01-27T23:44:21.201438Z"
    }
   },
   "outputs": [
    {
     "data": {
      "text/plain": [
       "AMR\n",
       "3     286\n",
       "0     262\n",
       "16    240\n",
       "18    189\n",
       "15    178\n",
       "17    162\n",
       "14    129\n",
       "4     111\n",
       "5      87\n",
       "13     76\n",
       "19     68\n",
       "8      68\n",
       "7      62\n",
       "11     58\n",
       "6      49\n",
       "12     48\n",
       "9      43\n",
       "10     36\n",
       "2      16\n",
       "21     14\n",
       "20     13\n",
       "22     11\n",
       "23      8\n",
       "25      4\n",
       "24      3\n",
       "27      1\n",
       "31      1\n",
       "dtype: int64"
      ]
     },
     "execution_count": 9,
     "metadata": {},
     "output_type": "execute_result"
    }
   ],
   "source": [
    "data.value_counts(\"AMR\")"
   ]
  },
  {
   "cell_type": "markdown",
   "metadata": {},
   "source": [
    "## Visualizing data in both the columns"
   ]
  },
  {
   "cell_type": "code",
   "execution_count": 10,
   "metadata": {
    "execution": {
     "iopub.execute_input": "2022-01-27T23:44:24.641463Z",
     "iopub.status.busy": "2022-01-27T23:44:24.641049Z",
     "iopub.status.idle": "2022-01-27T23:44:25.934850Z",
     "shell.execute_reply": "2022-01-27T23:44:25.934021Z",
     "shell.execute_reply.started": "2022-01-27T23:44:24.641432Z"
    }
   },
   "outputs": [
    {
     "data": {
      "image/png": "[encoded data removed]",
      "text/plain": [
       "<Figure size 432x288 with 1 Axes>"
      ]
     },
     "metadata": {
      "needs_background": "light"
     },
     "output_type": "display_data"
    }
   ],
   "source": [
    "# importing packages\n",
    "import seaborn as sns\n",
    "import matplotlib.pyplot as plt\n",
    "\n",
    "\n",
    "sns.countplot(x='CRISPR_Cas', data=data, )\n",
    "plt.show()"
   ]
  },
  {
   "cell_type": "code",
   "execution_count": 11,
   "metadata": {
    "execution": {
     "iopub.execute_input": "2022-01-27T23:44:26.090606Z",
     "iopub.status.busy": "2022-01-27T23:44:26.089682Z",
     "iopub.status.idle": "2022-01-27T23:44:26.403017Z",
     "shell.execute_reply": "2022-01-27T23:44:26.402089Z",
     "shell.execute_reply.started": "2022-01-27T23:44:26.090532Z"
    }
   },
   "outputs": [
    {
     "data": {
      "image/png": "[encoded data removed]",
      "text/plain": [
       "<Figure size 432x288 with 1 Axes>"
      ]
     },
     "metadata": {
      "needs_background": "light"
     },
     "output_type": "display_data"
    }
   ],
   "source": [
    "import seaborn as sns\n",
    "import matplotlib.pyplot as plt\n",
    "\n",
    "\n",
    "sns.countplot(x='AMR', data=data, )\n",
    "plt.show()"
   ]
  },
  {
   "cell_type": "markdown",
   "metadata": {},
   "source": [
    "## Finding the correlation between the two columns \"CRISPR_Cas\" and \"AMR\""
   ]
  },
  {
   "cell_type": "code",
   "execution_count": 12,
   "metadata": {
    "execution": {
     "iopub.execute_input": "2022-01-27T23:52:36.286582Z",
     "iopub.status.busy": "2022-01-27T23:52:36.286280Z",
     "iopub.status.idle": "2022-01-27T23:52:36.298716Z",
     "shell.execute_reply": "2022-01-27T23:52:36.297724Z",
     "shell.execute_reply.started": "2022-01-27T23:52:36.286548Z"
    }
   },
   "outputs": [
    {
     "data": {
      "text/html": [
       "<div>\n",
       "<style scoped>\n",
       "    .dataframe tbody tr th:only-of-type {\n",
       "        vertical-align: middle;\n",
       "    }\n",
       "\n",
       "    .dataframe tbody tr th {\n",
       "        vertical-align: top;\n",
       "    }\n",
       "\n",
       "    .dataframe thead th {\n",
       "        text-align: right;\n",
       "    }\n",
       "</style>\n",
       "<table border=\"1\" class=\"dataframe\">\n",
       "  <thead>\n",
       "    <tr style=\"text-align: right;\">\n",
       "      <th></th>\n",
       "      <th>CRISPR_Cas</th>\n",
       "      <th>AMR</th>\n",
       "    </tr>\n",
       "  </thead>\n",
       "  <tbody>\n",
       "    <tr>\n",
       "      <th>CRISPR_Cas</th>\n",
       "      <td>1.000000</td>\n",
       "      <td>-0.156173</td>\n",
       "    </tr>\n",
       "    <tr>\n",
       "      <th>AMR</th>\n",
       "      <td>-0.156173</td>\n",
       "      <td>1.000000</td>\n",
       "    </tr>\n",
       "  </tbody>\n",
       "</table>\n",
       "</div>"
      ],
      "text/plain": [
       "            CRISPR_Cas       AMR\n",
       "CRISPR_Cas    1.000000 -0.156173\n",
       "AMR          -0.156173  1.000000"
      ]
     },
     "execution_count": 12,
     "metadata": {},
     "output_type": "execute_result"
    }
   ],
   "source": [
    "data.corr(method='pearson')"
   ]
  },
  {
   "cell_type": "markdown",
   "metadata": {},
   "source": [
    "## Plotting the correlation using correlation matrix"
   ]
  },
  {
   "cell_type": "code",
   "execution_count": 13,
   "metadata": {
    "execution": {
     "iopub.execute_input": "2022-01-27T23:54:21.077343Z",
     "iopub.status.busy": "2022-01-27T23:54:21.077057Z",
     "iopub.status.idle": "2022-01-27T23:54:21.301500Z",
     "shell.execute_reply": "2022-01-27T23:54:21.300594Z",
     "shell.execute_reply.started": "2022-01-27T23:54:21.077314Z"
    }
   },
   "outputs": [
    {
     "data": {
      "image/png": "[encoded data removed]",
      "text/plain": [
       "<Figure size 432x288 with 2 Axes>"
      ]
     },
     "metadata": {
      "needs_background": "light"
     },
     "output_type": "display_data"
    }
   ],
   "source": [
    "sns.heatmap(data.corr(method='pearson'), annot = True);\n",
    "plt.show()"
   ]
  }
 ],
 "metadata": {
  "kernelspec": {
   "display_name": "Python 3",
   "language": "python",
   "name": "python3"
  },
  "language_info": {
   "codemirror_mode": {
    "name": "ipython",
    "version": 3
   },
   "file_extension": ".py",
   "mimetype": "text/x-python",
   "name": "python",
   "nbconvert_exporter": "python",
   "pygments_lexer": "ipython3",
   "version": "3.8.8"
  }
 },
 "nbformat": 4,
 "nbformat_minor": 4
}
